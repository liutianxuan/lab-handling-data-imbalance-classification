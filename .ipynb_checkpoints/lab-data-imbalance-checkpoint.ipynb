{
 "cells": [
  {
   "cell_type": "markdown",
   "id": "9cb48efc",
   "metadata": {},
   "source": [
    "**Lab | Handling Data Imbalance in Classification Models**\n",
    "\n",
    "Begin the Modeling here\n",
    "\n",
    "- Look critically at the dtypes of numerical and categorical columns and make changes where appropriate.\n",
    "- Concatenate numerical and categorical back together again for your X dataframe. Designate the TargetB as y.\n",
    "1. Split the data into a training set and a test set.\n",
    "2. Split further into train_num and train_cat. Also test_num and test_cat.\n",
    "3. Scale the features either by using MinMax Scaler or a Standard Scaler. (train_num, test_num)\n",
    "4. Encode the categorical features using One-Hot Encoding or Ordinal Encoding. (train_cat, test_cat)\n",
    "a. fit only on train data, transform both train and test\n",
    "b. again re-concatenate train_num and train_cat as X_train as well as test_num and test_cat as X_test\n",
    "5. Fit a logistic regression model on the training data.\n",
    "6. Check the accuracy on the test data.\n",
    "Note: So far we have not balanced the data.\n",
    "\n",
    "Managing imbalance in the dataset\n",
    "\n",
    "- Check for the imbalance.\n",
    "- Use the resampling strategies used in class for upsampling and downsampling to create a balance between the two classes.\n",
    "- Each time fit the model and see how the accuracy of the model has changed."
   ]
  },
  {
   "cell_type": "code",
   "execution_count": null,
   "id": "efe522c7",
   "metadata": {},
   "outputs": [],
   "source": []
  },
  {
   "cell_type": "code",
   "execution_count": null,
   "id": "2bdc059f",
   "metadata": {},
   "outputs": [],
   "source": []
  },
  {
   "cell_type": "code",
   "execution_count": null,
   "id": "379c929f",
   "metadata": {},
   "outputs": [],
   "source": []
  },
  {
   "cell_type": "code",
   "execution_count": null,
   "id": "a80f392e",
   "metadata": {},
   "outputs": [],
   "source": []
  },
  {
   "cell_type": "code",
   "execution_count": null,
   "id": "c627df75",
   "metadata": {},
   "outputs": [],
   "source": []
  },
  {
   "cell_type": "code",
   "execution_count": null,
   "id": "b63bfd2f",
   "metadata": {},
   "outputs": [],
   "source": []
  },
  {
   "cell_type": "code",
   "execution_count": null,
   "id": "5684a20e",
   "metadata": {},
   "outputs": [],
   "source": []
  },
  {
   "cell_type": "code",
   "execution_count": null,
   "id": "79b7896a",
   "metadata": {},
   "outputs": [],
   "source": []
  },
  {
   "cell_type": "code",
   "execution_count": null,
   "id": "57cff8c4",
   "metadata": {},
   "outputs": [],
   "source": []
  },
  {
   "cell_type": "code",
   "execution_count": null,
   "id": "139cf5b7",
   "metadata": {},
   "outputs": [],
   "source": []
  }
 ],
 "metadata": {
  "kernelspec": {
   "display_name": "Python 3 (ipykernel)",
   "language": "python",
   "name": "python3"
  },
  "language_info": {
   "codemirror_mode": {
    "name": "ipython",
    "version": 3
   },
   "file_extension": ".py",
   "mimetype": "text/x-python",
   "name": "python",
   "nbconvert_exporter": "python",
   "pygments_lexer": "ipython3",
   "version": "3.10.9"
  }
 },
 "nbformat": 4,
 "nbformat_minor": 5
}
